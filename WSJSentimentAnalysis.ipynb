{
 "cells": [
  {
   "cell_type": "code",
   "execution_count": 1,
   "id": "d564a9f2",
   "metadata": {},
   "outputs": [],
   "source": [
    "import pandas as pd\n",
    "import nltk\n",
    "from nltk.sentiment import SentimentIntensityAnalyzer\n",
    "from sklearn.impute import SimpleImputer\n",
    "import matplotlib.pyplot as plt"
   ]
  },
  {
   "cell_type": "code",
   "execution_count": 2,
   "id": "50cdeaaa",
   "metadata": {},
   "outputs": [],
   "source": [
    "df = pd.read_excel(\"C://Users//PRAGATHI RAVIPATI//Downloads//wsj2012_ticker_added_New.xlsx\", usecols=lambda x: 'Unnamed' not in x)"
   ]
  },
  {
   "cell_type": "code",
   "execution_count": 3,
   "id": "217d69e7",
   "metadata": {},
   "outputs": [
    {
     "data": {
      "text/html": [
       "<div>\n",
       "<style scoped>\n",
       "    .dataframe tbody tr th:only-of-type {\n",
       "        vertical-align: middle;\n",
       "    }\n",
       "\n",
       "    .dataframe tbody tr th {\n",
       "        vertical-align: top;\n",
       "    }\n",
       "\n",
       "    .dataframe thead th {\n",
       "        text-align: right;\n",
       "    }\n",
       "</style>\n",
       "<table border=\"1\" class=\"dataframe\">\n",
       "  <thead>\n",
       "    <tr style=\"text-align: right;\">\n",
       "      <th></th>\n",
       "      <th>url</th>\n",
       "      <th>time</th>\n",
       "      <th>category</th>\n",
       "      <th>sub category1</th>\n",
       "      <th>sub category2</th>\n",
       "      <th>author</th>\n",
       "      <th>title</th>\n",
       "      <th>content</th>\n",
       "      <th>tic_list</th>\n",
       "    </tr>\n",
       "  </thead>\n",
       "  <tbody>\n",
       "    <tr>\n",
       "      <th>0</th>\n",
       "      <td>https://www.wsj.com/articles/SB100014240527023...</td>\n",
       "      <td>2012-07-02 03:31</td>\n",
       "      <td>NaN</td>\n",
       "      <td>NaN</td>\n",
       "      <td>NaN</td>\n",
       "      <td>Kelsey Gee</td>\n",
       "      <td>Downsizing, Nonprofit Sells Building</td>\n",
       "      <td>One of the city's oldest nonprofit organizatio...</td>\n",
       "      <td>['TST', 'EML']</td>\n",
       "    </tr>\n",
       "    <tr>\n",
       "      <th>1</th>\n",
       "      <td>https://www.wsj.com/articles/SB100014240527023...</td>\n",
       "      <td>2012-07-02 03:27</td>\n",
       "      <td>NaN</td>\n",
       "      <td>NaN</td>\n",
       "      <td>NaN</td>\n",
       "      <td>NaN</td>\n",
       "      <td>The Future of News Corp.</td>\n",
       "      <td>Rupert Murdoch's decision to split News Corp. ...</td>\n",
       "      <td>['CBRE', 'TST', 'NWSA']</td>\n",
       "    </tr>\n",
       "    <tr>\n",
       "      <th>2</th>\n",
       "      <td>https://www.wsj.com/articles/SB100014240527023...</td>\n",
       "      <td>2012-07-02 03:24</td>\n",
       "      <td>NaN</td>\n",
       "      <td>NaN</td>\n",
       "      <td>NaN</td>\n",
       "      <td>Maura Webber Sadovi</td>\n",
       "      <td>Recommitting to Yonkers</td>\n",
       "      <td>After months of negotiations, a Japanese manuf...</td>\n",
       "      <td>['CARH.1', 'TST', 'HUD']</td>\n",
       "    </tr>\n",
       "    <tr>\n",
       "      <th>3</th>\n",
       "      <td>https://www.wsj.com/articles/SB100014240527023...</td>\n",
       "      <td>2012-07-02 03:00</td>\n",
       "      <td>NaN</td>\n",
       "      <td>NaN</td>\n",
       "      <td>NaN</td>\n",
       "      <td>Ralph Gardner Jr.</td>\n",
       "      <td>Fully Booked at the Park</td>\n",
       "      <td>The conditions in Bryant Park weren't ideal fo...</td>\n",
       "      <td>['TST']</td>\n",
       "    </tr>\n",
       "    <tr>\n",
       "      <th>4</th>\n",
       "      <td>https://www.wsj.com/articles/SB100014240527023...</td>\n",
       "      <td>2012-07-02 02:33</td>\n",
       "      <td>NaN</td>\n",
       "      <td>NaN</td>\n",
       "      <td>NaN</td>\n",
       "      <td>Jacob Gershman</td>\n",
       "      <td>Familiar Face to Run Espada&amp;#39;s Clinic</td>\n",
       "      <td>The Bronx health clinic plundered by Sen. Pedr...</td>\n",
       "      <td>['TST', 'HUD']</td>\n",
       "    </tr>\n",
       "  </tbody>\n",
       "</table>\n",
       "</div>"
      ],
      "text/plain": [
       "                                                 url              time  \\\n",
       "0  https://www.wsj.com/articles/SB100014240527023...  2012-07-02 03:31   \n",
       "1  https://www.wsj.com/articles/SB100014240527023...  2012-07-02 03:27   \n",
       "2  https://www.wsj.com/articles/SB100014240527023...  2012-07-02 03:24   \n",
       "3  https://www.wsj.com/articles/SB100014240527023...  2012-07-02 03:00   \n",
       "4  https://www.wsj.com/articles/SB100014240527023...  2012-07-02 02:33   \n",
       "\n",
       "   category  sub category1  sub category2               author  \\\n",
       "0       NaN            NaN            NaN           Kelsey Gee   \n",
       "1       NaN            NaN            NaN                  NaN   \n",
       "2       NaN            NaN            NaN  Maura Webber Sadovi   \n",
       "3       NaN            NaN            NaN    Ralph Gardner Jr.   \n",
       "4       NaN            NaN            NaN       Jacob Gershman   \n",
       "\n",
       "                                      title  \\\n",
       "0      Downsizing, Nonprofit Sells Building   \n",
       "1                  The Future of News Corp.   \n",
       "2                   Recommitting to Yonkers   \n",
       "3                  Fully Booked at the Park   \n",
       "4  Familiar Face to Run Espada&#39;s Clinic   \n",
       "\n",
       "                                             content                  tic_list  \n",
       "0  One of the city's oldest nonprofit organizatio...            ['TST', 'EML']  \n",
       "1  Rupert Murdoch's decision to split News Corp. ...   ['CBRE', 'TST', 'NWSA']  \n",
       "2  After months of negotiations, a Japanese manuf...  ['CARH.1', 'TST', 'HUD']  \n",
       "3  The conditions in Bryant Park weren't ideal fo...                   ['TST']  \n",
       "4  The Bronx health clinic plundered by Sen. Pedr...            ['TST', 'HUD']  "
      ]
     },
     "execution_count": 3,
     "metadata": {},
     "output_type": "execute_result"
    }
   ],
   "source": [
    "df.head()"
   ]
  },
  {
   "cell_type": "code",
   "execution_count": 4,
   "id": "0cf157c1",
   "metadata": {},
   "outputs": [
    {
     "data": {
      "text/plain": [
       "url                  0\n",
       "time                 0\n",
       "category         30684\n",
       "sub category1    30684\n",
       "sub category2    30684\n",
       "author            3060\n",
       "title                0\n",
       "content              0\n",
       "tic_list             0\n",
       "dtype: int64"
      ]
     },
     "execution_count": 4,
     "metadata": {},
     "output_type": "execute_result"
    }
   ],
   "source": [
    "df.isnull().sum()"
   ]
  },
  {
   "cell_type": "code",
   "execution_count": 5,
   "id": "7a7db2bf",
   "metadata": {},
   "outputs": [],
   "source": [
    "# Drop irrelevant columns\n",
    "df = df.drop(['sub category1', 'sub category2'], axis=1)"
   ]
  },
  {
   "cell_type": "code",
   "execution_count": 6,
   "id": "9551772f",
   "metadata": {},
   "outputs": [],
   "source": [
    "# Handle missing values\n",
    "imputer = SimpleImputer(strategy='most_frequent')\n",
    "df['title'] = imputer.fit_transform(df[['title']])"
   ]
  },
  {
   "cell_type": "code",
   "execution_count": 7,
   "id": "8ac60df3",
   "metadata": {},
   "outputs": [
    {
     "data": {
      "text/html": [
       "<div>\n",
       "<style scoped>\n",
       "    .dataframe tbody tr th:only-of-type {\n",
       "        vertical-align: middle;\n",
       "    }\n",
       "\n",
       "    .dataframe tbody tr th {\n",
       "        vertical-align: top;\n",
       "    }\n",
       "\n",
       "    .dataframe thead th {\n",
       "        text-align: right;\n",
       "    }\n",
       "</style>\n",
       "<table border=\"1\" class=\"dataframe\">\n",
       "  <thead>\n",
       "    <tr style=\"text-align: right;\">\n",
       "      <th></th>\n",
       "      <th>url</th>\n",
       "      <th>time</th>\n",
       "      <th>category</th>\n",
       "      <th>author</th>\n",
       "      <th>title</th>\n",
       "      <th>content</th>\n",
       "      <th>tic_list</th>\n",
       "    </tr>\n",
       "  </thead>\n",
       "  <tbody>\n",
       "    <tr>\n",
       "      <th>0</th>\n",
       "      <td>https://www.wsj.com/articles/SB100014240527023...</td>\n",
       "      <td>2012-07-02 03:31</td>\n",
       "      <td>NaN</td>\n",
       "      <td>Kelsey Gee</td>\n",
       "      <td>Downsizing, Nonprofit Sells Building</td>\n",
       "      <td>One of the city's oldest nonprofit organizatio...</td>\n",
       "      <td>['TST', 'EML']</td>\n",
       "    </tr>\n",
       "    <tr>\n",
       "      <th>1</th>\n",
       "      <td>https://www.wsj.com/articles/SB100014240527023...</td>\n",
       "      <td>2012-07-02 03:27</td>\n",
       "      <td>NaN</td>\n",
       "      <td>NaN</td>\n",
       "      <td>The Future of News Corp.</td>\n",
       "      <td>Rupert Murdoch's decision to split News Corp. ...</td>\n",
       "      <td>['CBRE', 'TST', 'NWSA']</td>\n",
       "    </tr>\n",
       "    <tr>\n",
       "      <th>2</th>\n",
       "      <td>https://www.wsj.com/articles/SB100014240527023...</td>\n",
       "      <td>2012-07-02 03:24</td>\n",
       "      <td>NaN</td>\n",
       "      <td>Maura Webber Sadovi</td>\n",
       "      <td>Recommitting to Yonkers</td>\n",
       "      <td>After months of negotiations, a Japanese manuf...</td>\n",
       "      <td>['CARH.1', 'TST', 'HUD']</td>\n",
       "    </tr>\n",
       "    <tr>\n",
       "      <th>3</th>\n",
       "      <td>https://www.wsj.com/articles/SB100014240527023...</td>\n",
       "      <td>2012-07-02 03:00</td>\n",
       "      <td>NaN</td>\n",
       "      <td>Ralph Gardner Jr.</td>\n",
       "      <td>Fully Booked at the Park</td>\n",
       "      <td>The conditions in Bryant Park weren't ideal fo...</td>\n",
       "      <td>['TST']</td>\n",
       "    </tr>\n",
       "    <tr>\n",
       "      <th>4</th>\n",
       "      <td>https://www.wsj.com/articles/SB100014240527023...</td>\n",
       "      <td>2012-07-02 02:33</td>\n",
       "      <td>NaN</td>\n",
       "      <td>Jacob Gershman</td>\n",
       "      <td>Familiar Face to Run Espada&amp;#39;s Clinic</td>\n",
       "      <td>The Bronx health clinic plundered by Sen. Pedr...</td>\n",
       "      <td>['TST', 'HUD']</td>\n",
       "    </tr>\n",
       "  </tbody>\n",
       "</table>\n",
       "</div>"
      ],
      "text/plain": [
       "                                                 url              time  \\\n",
       "0  https://www.wsj.com/articles/SB100014240527023...  2012-07-02 03:31   \n",
       "1  https://www.wsj.com/articles/SB100014240527023...  2012-07-02 03:27   \n",
       "2  https://www.wsj.com/articles/SB100014240527023...  2012-07-02 03:24   \n",
       "3  https://www.wsj.com/articles/SB100014240527023...  2012-07-02 03:00   \n",
       "4  https://www.wsj.com/articles/SB100014240527023...  2012-07-02 02:33   \n",
       "\n",
       "   category               author                                     title  \\\n",
       "0       NaN           Kelsey Gee      Downsizing, Nonprofit Sells Building   \n",
       "1       NaN                  NaN                  The Future of News Corp.   \n",
       "2       NaN  Maura Webber Sadovi                   Recommitting to Yonkers   \n",
       "3       NaN    Ralph Gardner Jr.                  Fully Booked at the Park   \n",
       "4       NaN       Jacob Gershman  Familiar Face to Run Espada&#39;s Clinic   \n",
       "\n",
       "                                             content                  tic_list  \n",
       "0  One of the city's oldest nonprofit organizatio...            ['TST', 'EML']  \n",
       "1  Rupert Murdoch's decision to split News Corp. ...   ['CBRE', 'TST', 'NWSA']  \n",
       "2  After months of negotiations, a Japanese manuf...  ['CARH.1', 'TST', 'HUD']  \n",
       "3  The conditions in Bryant Park weren't ideal fo...                   ['TST']  \n",
       "4  The Bronx health clinic plundered by Sen. Pedr...            ['TST', 'HUD']  "
      ]
     },
     "execution_count": 7,
     "metadata": {},
     "output_type": "execute_result"
    }
   ],
   "source": [
    "# Print the preprocessed dataset\n",
    "df.head()"
   ]
  },
  {
   "cell_type": "code",
   "execution_count": 8,
   "id": "2ece9991",
   "metadata": {},
   "outputs": [],
   "source": [
    "sia = SentimentIntensityAnalyzer()"
   ]
  },
  {
   "cell_type": "code",
   "execution_count": 9,
   "id": "3218047b",
   "metadata": {},
   "outputs": [],
   "source": [
    "def get_sentiment_score(text):\n",
    "    sentiment = sia.polarity_scores(text)\n",
    "    return sentiment['compound']"
   ]
  },
  {
   "cell_type": "code",
   "execution_count": 10,
   "id": "d44b3371",
   "metadata": {},
   "outputs": [],
   "source": [
    "df['sentiment_score'] = df['content'].apply(get_sentiment_score)"
   ]
  },
  {
   "cell_type": "code",
   "execution_count": 11,
   "id": "6ad8a0d4",
   "metadata": {},
   "outputs": [],
   "source": [
    "df['sentiment_category'] = df['sentiment_score'].apply(lambda score: 'Positive' if score > 0 else 'Negative')"
   ]
  },
  {
   "cell_type": "code",
   "execution_count": 15,
   "id": "cca94ded",
   "metadata": {},
   "outputs": [
    {
     "data": {
      "text/html": [
       "<div>\n",
       "<style scoped>\n",
       "    .dataframe tbody tr th:only-of-type {\n",
       "        vertical-align: middle;\n",
       "    }\n",
       "\n",
       "    .dataframe tbody tr th {\n",
       "        vertical-align: top;\n",
       "    }\n",
       "\n",
       "    .dataframe thead th {\n",
       "        text-align: right;\n",
       "    }\n",
       "</style>\n",
       "<table border=\"1\" class=\"dataframe\">\n",
       "  <thead>\n",
       "    <tr style=\"text-align: right;\">\n",
       "      <th></th>\n",
       "      <th>url</th>\n",
       "      <th>time</th>\n",
       "      <th>category</th>\n",
       "      <th>author</th>\n",
       "      <th>title</th>\n",
       "      <th>content</th>\n",
       "      <th>tic_list</th>\n",
       "      <th>sentiment_score</th>\n",
       "      <th>sentiment_category</th>\n",
       "    </tr>\n",
       "  </thead>\n",
       "  <tbody>\n",
       "    <tr>\n",
       "      <th>0</th>\n",
       "      <td>https://www.wsj.com/articles/SB100014240527023...</td>\n",
       "      <td>2012-07-02 03:31</td>\n",
       "      <td>NaN</td>\n",
       "      <td>Kelsey Gee</td>\n",
       "      <td>Downsizing, Nonprofit Sells Building</td>\n",
       "      <td>One of the city's oldest nonprofit organizatio...</td>\n",
       "      <td>['TST', 'EML']</td>\n",
       "      <td>-0.9672</td>\n",
       "      <td>Negative</td>\n",
       "    </tr>\n",
       "    <tr>\n",
       "      <th>1</th>\n",
       "      <td>https://www.wsj.com/articles/SB100014240527023...</td>\n",
       "      <td>2012-07-02 03:27</td>\n",
       "      <td>NaN</td>\n",
       "      <td>NaN</td>\n",
       "      <td>The Future of News Corp.</td>\n",
       "      <td>Rupert Murdoch's decision to split News Corp. ...</td>\n",
       "      <td>['CBRE', 'TST', 'NWSA']</td>\n",
       "      <td>0.9514</td>\n",
       "      <td>Positive</td>\n",
       "    </tr>\n",
       "    <tr>\n",
       "      <th>2</th>\n",
       "      <td>https://www.wsj.com/articles/SB100014240527023...</td>\n",
       "      <td>2012-07-02 03:24</td>\n",
       "      <td>NaN</td>\n",
       "      <td>Maura Webber Sadovi</td>\n",
       "      <td>Recommitting to Yonkers</td>\n",
       "      <td>After months of negotiations, a Japanese manuf...</td>\n",
       "      <td>['CARH.1', 'TST', 'HUD']</td>\n",
       "      <td>0.9915</td>\n",
       "      <td>Positive</td>\n",
       "    </tr>\n",
       "    <tr>\n",
       "      <th>3</th>\n",
       "      <td>https://www.wsj.com/articles/SB100014240527023...</td>\n",
       "      <td>2012-07-02 03:00</td>\n",
       "      <td>NaN</td>\n",
       "      <td>Ralph Gardner Jr.</td>\n",
       "      <td>Fully Booked at the Park</td>\n",
       "      <td>The conditions in Bryant Park weren't ideal fo...</td>\n",
       "      <td>['TST']</td>\n",
       "      <td>0.9929</td>\n",
       "      <td>Positive</td>\n",
       "    </tr>\n",
       "    <tr>\n",
       "      <th>4</th>\n",
       "      <td>https://www.wsj.com/articles/SB100014240527023...</td>\n",
       "      <td>2012-07-02 02:33</td>\n",
       "      <td>NaN</td>\n",
       "      <td>Jacob Gershman</td>\n",
       "      <td>Familiar Face to Run Espada&amp;#39;s Clinic</td>\n",
       "      <td>The Bronx health clinic plundered by Sen. Pedr...</td>\n",
       "      <td>['TST', 'HUD']</td>\n",
       "      <td>-0.9675</td>\n",
       "      <td>Negative</td>\n",
       "    </tr>\n",
       "  </tbody>\n",
       "</table>\n",
       "</div>"
      ],
      "text/plain": [
       "                                                 url              time  \\\n",
       "0  https://www.wsj.com/articles/SB100014240527023...  2012-07-02 03:31   \n",
       "1  https://www.wsj.com/articles/SB100014240527023...  2012-07-02 03:27   \n",
       "2  https://www.wsj.com/articles/SB100014240527023...  2012-07-02 03:24   \n",
       "3  https://www.wsj.com/articles/SB100014240527023...  2012-07-02 03:00   \n",
       "4  https://www.wsj.com/articles/SB100014240527023...  2012-07-02 02:33   \n",
       "\n",
       "   category               author                                     title  \\\n",
       "0       NaN           Kelsey Gee      Downsizing, Nonprofit Sells Building   \n",
       "1       NaN                  NaN                  The Future of News Corp.   \n",
       "2       NaN  Maura Webber Sadovi                   Recommitting to Yonkers   \n",
       "3       NaN    Ralph Gardner Jr.                  Fully Booked at the Park   \n",
       "4       NaN       Jacob Gershman  Familiar Face to Run Espada&#39;s Clinic   \n",
       "\n",
       "                                             content  \\\n",
       "0  One of the city's oldest nonprofit organizatio...   \n",
       "1  Rupert Murdoch's decision to split News Corp. ...   \n",
       "2  After months of negotiations, a Japanese manuf...   \n",
       "3  The conditions in Bryant Park weren't ideal fo...   \n",
       "4  The Bronx health clinic plundered by Sen. Pedr...   \n",
       "\n",
       "                   tic_list  sentiment_score sentiment_category  \n",
       "0            ['TST', 'EML']          -0.9672           Negative  \n",
       "1   ['CBRE', 'TST', 'NWSA']           0.9514           Positive  \n",
       "2  ['CARH.1', 'TST', 'HUD']           0.9915           Positive  \n",
       "3                   ['TST']           0.9929           Positive  \n",
       "4            ['TST', 'HUD']          -0.9675           Negative  "
      ]
     },
     "execution_count": 15,
     "metadata": {},
     "output_type": "execute_result"
    }
   ],
   "source": [
    "df.head()"
   ]
  },
  {
   "cell_type": "code",
   "execution_count": 23,
   "id": "5d3314d1",
   "metadata": {},
   "outputs": [
    {
     "data": {
      "text/html": [
       "<div>\n",
       "<style scoped>\n",
       "    .dataframe tbody tr th:only-of-type {\n",
       "        vertical-align: middle;\n",
       "    }\n",
       "\n",
       "    .dataframe tbody tr th {\n",
       "        vertical-align: top;\n",
       "    }\n",
       "\n",
       "    .dataframe thead th {\n",
       "        text-align: right;\n",
       "    }\n",
       "</style>\n",
       "<table border=\"1\" class=\"dataframe\">\n",
       "  <thead>\n",
       "    <tr style=\"text-align: right;\">\n",
       "      <th></th>\n",
       "      <th>url</th>\n",
       "      <th>content</th>\n",
       "      <th>sentiment_category</th>\n",
       "    </tr>\n",
       "  </thead>\n",
       "  <tbody>\n",
       "    <tr>\n",
       "      <th>0</th>\n",
       "      <td>https://www.wsj.com/articles/SB100014240527023...</td>\n",
       "      <td>One of the city's oldest nonprofit organizatio...</td>\n",
       "      <td>Negative</td>\n",
       "    </tr>\n",
       "    <tr>\n",
       "      <th>1</th>\n",
       "      <td>https://www.wsj.com/articles/SB100014240527023...</td>\n",
       "      <td>Rupert Murdoch's decision to split News Corp. ...</td>\n",
       "      <td>Positive</td>\n",
       "    </tr>\n",
       "    <tr>\n",
       "      <th>2</th>\n",
       "      <td>https://www.wsj.com/articles/SB100014240527023...</td>\n",
       "      <td>After months of negotiations, a Japanese manuf...</td>\n",
       "      <td>Positive</td>\n",
       "    </tr>\n",
       "    <tr>\n",
       "      <th>3</th>\n",
       "      <td>https://www.wsj.com/articles/SB100014240527023...</td>\n",
       "      <td>The conditions in Bryant Park weren't ideal fo...</td>\n",
       "      <td>Positive</td>\n",
       "    </tr>\n",
       "    <tr>\n",
       "      <th>4</th>\n",
       "      <td>https://www.wsj.com/articles/SB100014240527023...</td>\n",
       "      <td>The Bronx health clinic plundered by Sen. Pedr...</td>\n",
       "      <td>Negative</td>\n",
       "    </tr>\n",
       "    <tr>\n",
       "      <th>...</th>\n",
       "      <td>...</td>\n",
       "      <td>...</td>\n",
       "      <td>...</td>\n",
       "    </tr>\n",
       "    <tr>\n",
       "      <th>30679</th>\n",
       "      <td>https://www.wsj.com/articles/SB100014240527023...</td>\n",
       "      <td>The dollar and euro fell to fresh multi-month ...</td>\n",
       "      <td>Negative</td>\n",
       "    </tr>\n",
       "    <tr>\n",
       "      <th>30680</th>\n",
       "      <td>https://www.wsj.com/articles/SB100014240527023...</td>\n",
       "      <td>MELBOURNE—Australia's Fortescue Metals Group L...</td>\n",
       "      <td>Positive</td>\n",
       "    </tr>\n",
       "    <tr>\n",
       "      <th>30681</th>\n",
       "      <td>https://www.wsj.com/articles/SB100014240527023...</td>\n",
       "      <td>Business &amp; Finance***U.S. and European stocks ...</td>\n",
       "      <td>Negative</td>\n",
       "    </tr>\n",
       "    <tr>\n",
       "      <th>30682</th>\n",
       "      <td>https://www.wsj.com/articles/SB100014240527023...</td>\n",
       "      <td>Voters on the Emerald Isle will decide Thursda...</td>\n",
       "      <td>Negative</td>\n",
       "    </tr>\n",
       "    <tr>\n",
       "      <th>30683</th>\n",
       "      <td>https://www.wsj.com/articles/SB100014240527023...</td>\n",
       "      <td>Investors are underestimating the risks posed ...</td>\n",
       "      <td>Negative</td>\n",
       "    </tr>\n",
       "  </tbody>\n",
       "</table>\n",
       "<p>30684 rows × 3 columns</p>\n",
       "</div>"
      ],
      "text/plain": [
       "                                                     url  \\\n",
       "0      https://www.wsj.com/articles/SB100014240527023...   \n",
       "1      https://www.wsj.com/articles/SB100014240527023...   \n",
       "2      https://www.wsj.com/articles/SB100014240527023...   \n",
       "3      https://www.wsj.com/articles/SB100014240527023...   \n",
       "4      https://www.wsj.com/articles/SB100014240527023...   \n",
       "...                                                  ...   \n",
       "30679  https://www.wsj.com/articles/SB100014240527023...   \n",
       "30680  https://www.wsj.com/articles/SB100014240527023...   \n",
       "30681  https://www.wsj.com/articles/SB100014240527023...   \n",
       "30682  https://www.wsj.com/articles/SB100014240527023...   \n",
       "30683  https://www.wsj.com/articles/SB100014240527023...   \n",
       "\n",
       "                                                 content sentiment_category  \n",
       "0      One of the city's oldest nonprofit organizatio...           Negative  \n",
       "1      Rupert Murdoch's decision to split News Corp. ...           Positive  \n",
       "2      After months of negotiations, a Japanese manuf...           Positive  \n",
       "3      The conditions in Bryant Park weren't ideal fo...           Positive  \n",
       "4      The Bronx health clinic plundered by Sen. Pedr...           Negative  \n",
       "...                                                  ...                ...  \n",
       "30679  The dollar and euro fell to fresh multi-month ...           Negative  \n",
       "30680  MELBOURNE—Australia's Fortescue Metals Group L...           Positive  \n",
       "30681  Business & Finance***U.S. and European stocks ...           Negative  \n",
       "30682  Voters on the Emerald Isle will decide Thursda...           Negative  \n",
       "30683  Investors are underestimating the risks posed ...           Negative  \n",
       "\n",
       "[30684 rows x 3 columns]"
      ]
     },
     "execution_count": 23,
     "metadata": {},
     "output_type": "execute_result"
    }
   ],
   "source": [
    "content_sentiment = df[['url','content', 'sentiment_category']]\n",
    "\n",
    "(content_sentiment)"
   ]
  },
  {
   "cell_type": "code",
   "execution_count": 29,
   "id": "94d00282",
   "metadata": {},
   "outputs": [],
   "source": [
    "# Counting the number of positive and negative events\n",
    "sentiment_counts = df['sentiment_category'].value_counts()"
   ]
  },
  {
   "cell_type": "code",
   "execution_count": 34,
   "id": "d8fa66c9",
   "metadata": {},
   "outputs": [
    {
     "data": {
      "text/plain": [
       "Positive    22362\n",
       "Negative     8322\n",
       "Name: sentiment_category, dtype: int64"
      ]
     },
     "execution_count": 34,
     "metadata": {},
     "output_type": "execute_result"
    }
   ],
   "source": [
    "sentiment_counts"
   ]
  },
  {
   "cell_type": "code",
   "execution_count": 30,
   "id": "065c1129",
   "metadata": {},
   "outputs": [
    {
     "data": {
      "image/png": "[encoded data removed]",
      "text/plain": [
       "<Figure size 432x288 with 1 Axes>"
      ]
     },
     "metadata": {
      "needs_background": "light"
     },
     "output_type": "display_data"
    }
   ],
   "source": [
    "# Creating bar plot\n",
    "plt.bar(sentiment_counts.index, sentiment_counts.values)\n",
    "plt.xlabel('Sentiment Category')\n",
    "plt.ylabel('Count')\n",
    "plt.title('Count of Positive and Negative Events')\n",
    "plt.show()"
   ]
  },
  {
   "cell_type": "code",
   "execution_count": null,
   "id": "93a78759",
   "metadata": {},
   "outputs": [],
   "source": []
  },
  {
   "cell_type": "code",
   "execution_count": 26,
   "id": "4aa7c6ee",
   "metadata": {},
   "outputs": [
    {
     "data": {
      "image/png": "[encoded data removed]",
      "text/plain": [
       "<Figure size 432x288 with 1 Axes>"
      ]
     },
     "metadata": {
      "needs_background": "light"
     },
     "output_type": "display_data"
    }
   ],
   "source": [
    "# Plotting histogram of sentiment scores\n",
    "plt.hist(df['sentiment_score'], bins=10, edgecolor='black')\n",
    "plt.xlabel('Sentiment Score')\n",
    "plt.ylabel('Frequency')\n",
    "plt.title('Distribution of Sentiment Scores')\n",
    "plt.show()"
   ]
  },
  {
   "cell_type": "code",
   "execution_count": 27,
   "id": "bb2098bf",
   "metadata": {},
   "outputs": [],
   "source": [
    "# Grouping by sentiment category and calculating mean sentiment score\n",
    "sentiment_summary = df.groupby('sentiment_category')['sentiment_score'].mean()"
   ]
  },
  {
   "cell_type": "code",
   "execution_count": 28,
   "id": "21aecabd",
   "metadata": {},
   "outputs": [
    {
     "data": {
      "image/png": "[encoded data removed]",
      "text/plain": [
       "<Figure size 432x288 with 1 Axes>"
      ]
     },
     "metadata": {
      "needs_background": "light"
     },
     "output_type": "display_data"
    }
   ],
   "source": [
    "# Creating line graph\n",
    "sentiment_summary.plot(kind='line', marker='o')\n",
    "\n",
    "plt.xlabel('Sentiment Category')\n",
    "plt.ylabel('Sentiment Score')\n",
    "plt.title('Sentiment Scores by Sentiment Category')\n",
    "plt.xticks(rotation=45)\n",
    "plt.grid(True)\n",
    "\n",
    "plt.show()"
   ]
  },
  {
   "cell_type": "code",
   "execution_count": 31,
   "id": "97827078",
   "metadata": {},
   "outputs": [],
   "source": [
    "# Exporting the results to an Excel file\n",
    "df.to_excel('wsj2012sentimentanalysis.xlsx', index=False)"
   ]
  },
  {
   "cell_type": "code",
   "execution_count": 32,
   "id": "6262630b",
   "metadata": {},
   "outputs": [],
   "source": [
    "df_new = pd.read_excel(\"C://Users//PRAGATHI RAVIPATI//Downloads//wsj2012sentimentanalysis.xlsx\")"
   ]
  },
  {
   "cell_type": "code",
   "execution_count": 33,
   "id": "9a3f7503",
   "metadata": {},
   "outputs": [
    {
     "data": {
      "text/html": [
       "<div>\n",
       "<style scoped>\n",
       "    .dataframe tbody tr th:only-of-type {\n",
       "        vertical-align: middle;\n",
       "    }\n",
       "\n",
       "    .dataframe tbody tr th {\n",
       "        vertical-align: top;\n",
       "    }\n",
       "\n",
       "    .dataframe thead th {\n",
       "        text-align: right;\n",
       "    }\n",
       "</style>\n",
       "<table border=\"1\" class=\"dataframe\">\n",
       "  <thead>\n",
       "    <tr style=\"text-align: right;\">\n",
       "      <th></th>\n",
       "      <th>url</th>\n",
       "      <th>time</th>\n",
       "      <th>category</th>\n",
       "      <th>author</th>\n",
       "      <th>title</th>\n",
       "      <th>content</th>\n",
       "      <th>tic_list</th>\n",
       "      <th>sentiment_score</th>\n",
       "      <th>sentiment_category</th>\n",
       "    </tr>\n",
       "  </thead>\n",
       "  <tbody>\n",
       "    <tr>\n",
       "      <th>0</th>\n",
       "      <td>https://www.wsj.com/articles/SB100014240527023...</td>\n",
       "      <td>2012-07-02 03:31</td>\n",
       "      <td>NaN</td>\n",
       "      <td>Kelsey Gee</td>\n",
       "      <td>Downsizing, Nonprofit Sells Building</td>\n",
       "      <td>One of the city's oldest nonprofit organizatio...</td>\n",
       "      <td>['TST', 'EML']</td>\n",
       "      <td>-0.9672</td>\n",
       "      <td>Negative</td>\n",
       "    </tr>\n",
       "    <tr>\n",
       "      <th>1</th>\n",
       "      <td>https://www.wsj.com/articles/SB100014240527023...</td>\n",
       "      <td>2012-07-02 03:27</td>\n",
       "      <td>NaN</td>\n",
       "      <td>NaN</td>\n",
       "      <td>The Future of News Corp.</td>\n",
       "      <td>Rupert Murdoch's decision to split News Corp. ...</td>\n",
       "      <td>['CBRE', 'TST', 'NWSA']</td>\n",
       "      <td>0.9514</td>\n",
       "      <td>Positive</td>\n",
       "    </tr>\n",
       "    <tr>\n",
       "      <th>2</th>\n",
       "      <td>https://www.wsj.com/articles/SB100014240527023...</td>\n",
       "      <td>2012-07-02 03:24</td>\n",
       "      <td>NaN</td>\n",
       "      <td>Maura Webber Sadovi</td>\n",
       "      <td>Recommitting to Yonkers</td>\n",
       "      <td>After months of negotiations, a Japanese manuf...</td>\n",
       "      <td>['CARH.1', 'TST', 'HUD']</td>\n",
       "      <td>0.9915</td>\n",
       "      <td>Positive</td>\n",
       "    </tr>\n",
       "    <tr>\n",
       "      <th>3</th>\n",
       "      <td>https://www.wsj.com/articles/SB100014240527023...</td>\n",
       "      <td>2012-07-02 03:00</td>\n",
       "      <td>NaN</td>\n",
       "      <td>Ralph Gardner Jr.</td>\n",
       "      <td>Fully Booked at the Park</td>\n",
       "      <td>The conditions in Bryant Park weren't ideal fo...</td>\n",
       "      <td>['TST']</td>\n",
       "      <td>0.9929</td>\n",
       "      <td>Positive</td>\n",
       "    </tr>\n",
       "    <tr>\n",
       "      <th>4</th>\n",
       "      <td>https://www.wsj.com/articles/SB100014240527023...</td>\n",
       "      <td>2012-07-02 02:33</td>\n",
       "      <td>NaN</td>\n",
       "      <td>Jacob Gershman</td>\n",
       "      <td>Familiar Face to Run Espada&amp;#39;s Clinic</td>\n",
       "      <td>The Bronx health clinic plundered by Sen. Pedr...</td>\n",
       "      <td>['TST', 'HUD']</td>\n",
       "      <td>-0.9675</td>\n",
       "      <td>Negative</td>\n",
       "    </tr>\n",
       "  </tbody>\n",
       "</table>\n",
       "</div>"
      ],
      "text/plain": [
       "                                                 url              time  \\\n",
       "0  https://www.wsj.com/articles/SB100014240527023...  2012-07-02 03:31   \n",
       "1  https://www.wsj.com/articles/SB100014240527023...  2012-07-02 03:27   \n",
       "2  https://www.wsj.com/articles/SB100014240527023...  2012-07-02 03:24   \n",
       "3  https://www.wsj.com/articles/SB100014240527023...  2012-07-02 03:00   \n",
       "4  https://www.wsj.com/articles/SB100014240527023...  2012-07-02 02:33   \n",
       "\n",
       "   category               author                                     title  \\\n",
       "0       NaN           Kelsey Gee      Downsizing, Nonprofit Sells Building   \n",
       "1       NaN                  NaN                  The Future of News Corp.   \n",
       "2       NaN  Maura Webber Sadovi                   Recommitting to Yonkers   \n",
       "3       NaN    Ralph Gardner Jr.                  Fully Booked at the Park   \n",
       "4       NaN       Jacob Gershman  Familiar Face to Run Espada&#39;s Clinic   \n",
       "\n",
       "                                             content  \\\n",
       "0  One of the city's oldest nonprofit organizatio...   \n",
       "1  Rupert Murdoch's decision to split News Corp. ...   \n",
       "2  After months of negotiations, a Japanese manuf...   \n",
       "3  The conditions in Bryant Park weren't ideal fo...   \n",
       "4  The Bronx health clinic plundered by Sen. Pedr...   \n",
       "\n",
       "                   tic_list  sentiment_score sentiment_category  \n",
       "0            ['TST', 'EML']          -0.9672           Negative  \n",
       "1   ['CBRE', 'TST', 'NWSA']           0.9514           Positive  \n",
       "2  ['CARH.1', 'TST', 'HUD']           0.9915           Positive  \n",
       "3                   ['TST']           0.9929           Positive  \n",
       "4            ['TST', 'HUD']          -0.9675           Negative  "
      ]
     },
     "execution_count": 33,
     "metadata": {},
     "output_type": "execute_result"
    }
   ],
   "source": [
    "df_new.head()"
   ]
  },
  {
   "cell_type": "code",
   "execution_count": null,
   "id": "f77b06e3",
   "metadata": {},
   "outputs": [],
   "source": []
  },
  {
   "cell_type": "code",
   "execution_count": null,
   "id": "a1583f65",
   "metadata": {},
   "outputs": [],
   "source": []
  },
  {
   "cell_type": "code",
   "execution_count": null,
   "id": "1aeefbbd",
   "metadata": {},
   "outputs": [],
   "source": []
  },
  {
   "cell_type": "code",
   "execution_count": null,
   "id": "8688eef4",
   "metadata": {},
   "outputs": [],
   "source": []
  }
 ],
 "metadata": {
  "kernelspec": {
   "display_name": "Python 3 (ipykernel)",
   "language": "python",
   "name": "python3"
  },
  "language_info": {
   "codemirror_mode": {
    "name": "ipython",
    "version": 3
   },
   "file_extension": ".py",
   "mimetype": "text/x-python",
   "name": "python",
   "nbconvert_exporter": "python",
   "pygments_lexer": "ipython3",
   "version": "3.9.12"
  }
 },
 "nbformat": 4,
 "nbformat_minor": 5
}
