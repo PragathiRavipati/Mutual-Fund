{
 "cells": [
  {
   "cell_type": "code",
   "execution_count": 1,
   "id": "d249a1fb",
   "metadata": {},
   "outputs": [],
   "source": [
    "import pandas as pd\n",
    "import nltk\n",
    "from nltk.sentiment import SentimentIntensityAnalyzer"
   ]
  },
  {
   "cell_type": "code",
   "execution_count": 2,
   "id": "bddb3a53",
   "metadata": {},
   "outputs": [],
   "source": [
    "def has_negative_sentiment(sentiment_score):\n",
    "    return sentiment_score < 0\n"
   ]
  },
  {
   "cell_type": "code",
   "execution_count": 3,
   "id": "6a026f6e",
   "metadata": {},
   "outputs": [],
   "source": [
    "def contains_keywords(text, keywords):\n",
    "    return any(keyword.lower() in text.lower() for keyword in keywords)\n"
   ]
  },
  {
   "cell_type": "code",
   "execution_count": 4,
   "id": "72053cbc",
   "metadata": {},
   "outputs": [],
   "source": [
    "df = pd.read_excel(\"C://Users//PRAGATHI RAVIPATI//Downloads//wsj2012sentimentanalysis.xlsx\")"
   ]
  },
  {
   "cell_type": "code",
   "execution_count": 5,
   "id": "769c7d76",
   "metadata": {},
   "outputs": [],
   "source": [
    "# Filter the data to get only negative sentiment statements\n",
    "df_negative = df[df['sentiment_score'] < 0]"
   ]
  },
  {
   "cell_type": "code",
   "execution_count": 7,
   "id": "96a3c1a8",
   "metadata": {},
   "outputs": [],
   "source": [
    "# Define the keywords to search for\n",
    "keywords = ['CEO','apologize','sorry']"
   ]
  },
  {
   "cell_type": "code",
   "execution_count": 10,
   "id": "bc05a2f5",
   "metadata": {},
   "outputs": [],
   "source": [
    "# Filter the negative statements containing the specified keywords\n",
    "negative_statements_with_keywords = df_negative[df_negative['content'].apply(lambda text: contains_keywords(text, keywords))]\n"
   ]
  },
  {
   "cell_type": "code",
   "execution_count": 13,
   "id": "21cd76c2",
   "metadata": {},
   "outputs": [
    {
     "data": {
      "text/html": [
       "<div>\n",
       "<style scoped>\n",
       "    .dataframe tbody tr th:only-of-type {\n",
       "        vertical-align: middle;\n",
       "    }\n",
       "\n",
       "    .dataframe tbody tr th {\n",
       "        vertical-align: top;\n",
       "    }\n",
       "\n",
       "    .dataframe thead th {\n",
       "        text-align: right;\n",
       "    }\n",
       "</style>\n",
       "<table border=\"1\" class=\"dataframe\">\n",
       "  <thead>\n",
       "    <tr style=\"text-align: right;\">\n",
       "      <th></th>\n",
       "      <th>url</th>\n",
       "      <th>time</th>\n",
       "      <th>category</th>\n",
       "      <th>author</th>\n",
       "      <th>title</th>\n",
       "      <th>content</th>\n",
       "      <th>tic_list</th>\n",
       "      <th>sentiment_score</th>\n",
       "      <th>sentiment_category</th>\n",
       "    </tr>\n",
       "  </thead>\n",
       "  <tbody>\n",
       "    <tr>\n",
       "      <th>4</th>\n",
       "      <td>https://www.wsj.com/articles/SB100014240527023...</td>\n",
       "      <td>2012-07-02 02:33</td>\n",
       "      <td>NaN</td>\n",
       "      <td>Jacob Gershman</td>\n",
       "      <td>Familiar Face to Run Espada&amp;#39;s Clinic</td>\n",
       "      <td>The Bronx health clinic plundered by Sen. Pedr...</td>\n",
       "      <td>['TST', 'HUD']</td>\n",
       "      <td>-0.9675</td>\n",
       "      <td>Negative</td>\n",
       "    </tr>\n",
       "    <tr>\n",
       "      <th>36</th>\n",
       "      <td>https://www.wsj.com/articles/SB100014240527023...</td>\n",
       "      <td>2012-07-01 19:52</td>\n",
       "      <td>NaN</td>\n",
       "      <td>Dan Fitzpatrick</td>\n",
       "      <td>BofA&amp;#39;s Blunder: $40 Billion-Plus</td>\n",
       "      <td>Bank of America Corp. BAC -0.84% thought it ha...</td>\n",
       "      <td>['BAC', 'CFC.3', 'CCF']</td>\n",
       "      <td>-0.9951</td>\n",
       "      <td>Negative</td>\n",
       "    </tr>\n",
       "    <tr>\n",
       "      <th>45</th>\n",
       "      <td>https://www.wsj.com/articles/SB100014240527023...</td>\n",
       "      <td>2012-07-01 16:03</td>\n",
       "      <td>NaN</td>\n",
       "      <td>John Bussey</td>\n",
       "      <td>Blame Fear, Not Greed, as Firms Hoard Cash</td>\n",
       "      <td>Here's one way to explain the record stacks of...</td>\n",
       "      <td>['AA.3', 'AA', 'TST', 'FLIR', 'GYI']</td>\n",
       "      <td>-0.7224</td>\n",
       "      <td>Negative</td>\n",
       "    </tr>\n",
       "    <tr>\n",
       "      <th>80</th>\n",
       "      <td>https://www.wsj.com/articles/SB100014240527023...</td>\n",
       "      <td>2012-07-02 23:29</td>\n",
       "      <td>NaN</td>\n",
       "      <td>Jeff Bennett|Gilles Castonguay</td>\n",
       "      <td>Fiat Weighs Boosting Car Exports to U.S.</td>\n",
       "      <td>Fiat SpA may produce more vehicles in Italy fo...</td>\n",
       "      <td>['TST', 'ALFA.1']</td>\n",
       "      <td>-0.4930</td>\n",
       "      <td>Negative</td>\n",
       "    </tr>\n",
       "    <tr>\n",
       "      <th>98</th>\n",
       "      <td>https://www.wsj.com/articles/SB100014240527023...</td>\n",
       "      <td>2012-07-02 20:38</td>\n",
       "      <td>NaN</td>\n",
       "      <td>Thomas Gryta</td>\n",
       "      <td>Tellabs CEO Robert Pullen Dies</td>\n",
       "      <td>Tellabs Inc. Chief Executive Robert Pullen die...</td>\n",
       "      <td>['TLAB', 'NWE']</td>\n",
       "      <td>-0.9432</td>\n",
       "      <td>Negative</td>\n",
       "    </tr>\n",
       "  </tbody>\n",
       "</table>\n",
       "</div>"
      ],
      "text/plain": [
       "                                                  url              time  \\\n",
       "4   https://www.wsj.com/articles/SB100014240527023...  2012-07-02 02:33   \n",
       "36  https://www.wsj.com/articles/SB100014240527023...  2012-07-01 19:52   \n",
       "45  https://www.wsj.com/articles/SB100014240527023...  2012-07-01 16:03   \n",
       "80  https://www.wsj.com/articles/SB100014240527023...  2012-07-02 23:29   \n",
       "98  https://www.wsj.com/articles/SB100014240527023...  2012-07-02 20:38   \n",
       "\n",
       "    category                          author  \\\n",
       "4        NaN                  Jacob Gershman   \n",
       "36       NaN                 Dan Fitzpatrick   \n",
       "45       NaN                     John Bussey   \n",
       "80       NaN  Jeff Bennett|Gilles Castonguay   \n",
       "98       NaN                    Thomas Gryta   \n",
       "\n",
       "                                         title  \\\n",
       "4     Familiar Face to Run Espada&#39;s Clinic   \n",
       "36        BofA&#39;s Blunder: $40 Billion-Plus   \n",
       "45  Blame Fear, Not Greed, as Firms Hoard Cash   \n",
       "80    Fiat Weighs Boosting Car Exports to U.S.   \n",
       "98              Tellabs CEO Robert Pullen Dies   \n",
       "\n",
       "                                              content  \\\n",
       "4   The Bronx health clinic plundered by Sen. Pedr...   \n",
       "36  Bank of America Corp. BAC -0.84% thought it ha...   \n",
       "45  Here's one way to explain the record stacks of...   \n",
       "80  Fiat SpA may produce more vehicles in Italy fo...   \n",
       "98  Tellabs Inc. Chief Executive Robert Pullen die...   \n",
       "\n",
       "                                tic_list  sentiment_score sentiment_category  \n",
       "4                         ['TST', 'HUD']          -0.9675           Negative  \n",
       "36               ['BAC', 'CFC.3', 'CCF']          -0.9951           Negative  \n",
       "45  ['AA.3', 'AA', 'TST', 'FLIR', 'GYI']          -0.7224           Negative  \n",
       "80                     ['TST', 'ALFA.1']          -0.4930           Negative  \n",
       "98                       ['TLAB', 'NWE']          -0.9432           Negative  "
      ]
     },
     "execution_count": 13,
     "metadata": {},
     "output_type": "execute_result"
    }
   ],
   "source": [
    "negative_statements_with_keywords.head()"
   ]
  },
  {
   "cell_type": "code",
   "execution_count": 14,
   "id": "f9e1ad24",
   "metadata": {},
   "outputs": [],
   "source": [
    "negative_statements_with_keywords.to_excel('wsj2012CEOStatements.xlsx', index=False)"
   ]
  },
  {
   "cell_type": "code",
   "execution_count": 15,
   "id": "c184a267",
   "metadata": {},
   "outputs": [],
   "source": [
    "df_CEO = pd.read_excel(\"C://Users//PRAGATHI RAVIPATI//Downloads//wsj2012CEOStatements.xlsx\")"
   ]
  },
  {
   "cell_type": "code",
   "execution_count": 16,
   "id": "c051bc95",
   "metadata": {},
   "outputs": [
    {
     "data": {
      "text/plain": [
       "(902, 9)"
      ]
     },
     "execution_count": 16,
     "metadata": {},
     "output_type": "execute_result"
    }
   ],
   "source": [
    "df_CEO.shape"
   ]
  },
  {
   "cell_type": "code",
   "execution_count": null,
   "id": "83564930",
   "metadata": {},
   "outputs": [],
   "source": []
  },
  {
   "cell_type": "code",
   "execution_count": null,
   "id": "d8299507",
   "metadata": {},
   "outputs": [],
   "source": []
  },
  {
   "cell_type": "code",
   "execution_count": null,
   "id": "fb0ca0b4",
   "metadata": {},
   "outputs": [],
   "source": []
  }
 ],
 "metadata": {
  "kernelspec": {
   "display_name": "Python 3 (ipykernel)",
   "language": "python",
   "name": "python3"
  },
  "language_info": {
   "codemirror_mode": {
    "name": "ipython",
    "version": 3
   },
   "file_extension": ".py",
   "mimetype": "text/x-python",
   "name": "python",
   "nbconvert_exporter": "python",
   "pygments_lexer": "ipython3",
   "version": "3.9.12"
  }
 },
 "nbformat": 4,
 "nbformat_minor": 5
}
